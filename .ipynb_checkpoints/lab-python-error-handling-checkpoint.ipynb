{
 "cells": [
  {
   "cell_type": "markdown",
   "id": "25d7736c-ba17-4aff-b6bb-66eba20fbf4e",
   "metadata": {},
   "source": [
    "# Lab | Error Handling"
   ]
  },
  {
   "cell_type": "markdown",
   "id": "bc99b386-7508-47a0-bcdb-d969deaf6c8b",
   "metadata": {},
   "source": [
    "## Exercise: Error Handling for Managing Customer Orders\n",
    "\n",
    "The implementation of your code for managing customer orders assumes that the user will always enter a valid input. \n",
    "\n",
    "For example, we could modify the `initialize_inventory` function to include error handling.\n",
    "   - If the user enters an invalid quantity (e.g., a negative value or a non-numeric value), display an error message and ask them to re-enter the quantity for that product.\n",
    "   - Use a try-except block to handle the error and continue prompting the user until a valid quantity is entered.\n",
    "\n",
    "```python\n",
    "# Step 1: Define the function for initializing the inventory with error handling\n",
    "def initialize_inventory(products):\n",
    "    inventory = {}\n",
    "    for product in products:\n",
    "        valid_quantity = False\n",
    "        while not valid_quantity:\n",
    "            try:\n",
    "                quantity = int(input(f\"Enter the quantity of {product}s available: \"))\n",
    "                if quantity < 0:\n",
    "                    raise ValueError(\"Invalid quantity! Please enter a non-negative value.\")\n",
    "                valid_quantity = True\n",
    "            except ValueError as error:\n",
    "                print(f\"Error: {error}\")\n",
    "        inventory[product] = quantity\n",
    "    return inventory\n",
    "\n",
    "# Or, in another way:\n",
    "\n",
    "def initialize_inventory(products):\n",
    "    inventory = {}\n",
    "    for product in products:\n",
    "        valid_input = False\n",
    "        while not valid_input:\n",
    "            try:\n",
    "                quantity = int(input(f\"Enter the quantity of {product}s available: \"))\n",
    "                if quantity >= 0:\n",
    "                    inventory[product] = quantity\n",
    "                    valid_input = True\n",
    "                else:\n",
    "                    print(\"Quantity cannot be negative. Please enter a valid quantity.\")\n",
    "            except ValueError:\n",
    "                print(\"Invalid input. Please enter a valid quantity.\")\n",
    "    return inventory\n",
    "```\n",
    "\n",
    "Let's enhance your code by implementing error handling to handle invalid inputs.\n",
    "\n",
    "Follow the steps below to complete the exercise:\n",
    "\n",
    "2. Modify the `calculate_total_price` function to include error handling.\n",
    "   - If the user enters an invalid price (e.g., a negative value or a non-numeric value), display an error message and ask them to re-enter the price for that product.\n",
    "   - Use a try-except block to handle the error and continue prompting the user until a valid price is entered.\n",
    "\n",
    "3. Modify the `get_customer_orders` function to include error handling.\n",
    "   - If the user enters an invalid number of orders (e.g., a negative value or a non-numeric value), display an error message and ask them to re-enter the number of orders.\n",
    "   - If the user enters an invalid product name (e.g., a product name that is not in the inventory), or that doesn't have stock available, display an error message and ask them to re-enter the product name. *Hint: you will need to pass inventory as a parameter*\n",
    "   - Use a try-except block to handle the error and continue prompting the user until a valid product name is entered.\n",
    "\n",
    "4. Test your code by running the program and deliberately entering invalid quantities and product names. Make sure the error handling mechanism works as expected.\n"
   ]
  },
  {
   "cell_type": "code",
   "execution_count": 2,
   "id": "78475377-02bc-4d5d-b871-5cd3e0115c8c",
   "metadata": {},
   "outputs": [],
   "source": [
    "#2\n",
    "\n",
    "customer_orders = [\"hat\", \"book\", \"mug\"]\n",
    "\n",
    "def total_price_customer_orders(customer_orders):\n",
    "\n",
    "    total_price = 0\n",
    "    product_price_input = {}\n",
    "  \n",
    "    for product in customer_orders:\n",
    "        \n",
    "        valid_input = False\n",
    "        while not valid_input:\n",
    "\n",
    "            try:\n",
    "                price = float(input(f\"Enter the price of {product}\"))\n",
    "                \n",
    "                if price > 0:\n",
    "                    total_price += price\n",
    "                    product_price_input[product] = price\n",
    "                    valid_input = True\n",
    "                \n",
    "                else:\n",
    "                    print(\"Quantity cannot be negative. Please enter a valid quantity.\")\n",
    "                 \n",
    "            except ValueError:\n",
    "                print(\"Invalid input. Please enter a valid quantity.\")\n",
    "                     \n",
    "    return total_price, product_price_input\n",
    "\n",
    "    "
   ]
  },
  {
   "cell_type": "code",
   "execution_count": 4,
   "id": "9c4291f1-bd7a-4be5-9272-13b8336f845d",
   "metadata": {},
   "outputs": [
    {
     "name": "stdin",
     "output_type": "stream",
     "text": [
      "Enter the price of hat -6\n"
     ]
    },
    {
     "name": "stdout",
     "output_type": "stream",
     "text": [
      "Quantity cannot be negative. Please enter a valid quantity.\n"
     ]
    },
    {
     "name": "stdin",
     "output_type": "stream",
     "text": [
      "Enter the price of hat 6\n",
      "Enter the price of book 12\n",
      "Enter the price of mug 30\n"
     ]
    },
    {
     "data": {
      "text/plain": [
       "(48.0, {'hat': 6.0, 'book': 12.0, 'mug': 30.0})"
      ]
     },
     "execution_count": 4,
     "metadata": {},
     "output_type": "execute_result"
    }
   ],
   "source": [
    "total_price_customer_orders(customer_orders)"
   ]
  },
  {
   "cell_type": "code",
   "execution_count": 104,
   "id": "302029fa-ad3f-4dd5-ac3c-094eb43d6517",
   "metadata": {},
   "outputs": [],
   "source": [
    "#3\n",
    "\n",
    "inventory = {'t-shirt': 1, 'mug': 1, 'keychain': 1}\n",
    "\n",
    "def get_customer_orders(inventory):\n",
    "    \n",
    "    valid_number_of_customer_orders = False\n",
    "    while True:\n",
    "\n",
    "        try:\n",
    "            number_of_customer_orders = int(input(\"Enter the number of customer orders: \"))\n",
    "                \n",
    "            if number_of_customer_orders < 0:\n",
    "                raise ValueError(\"Invalid quantity! Please enter a non-negative value.\")\n",
    "            break\n",
    "                \n",
    "        except ValueError as error:\n",
    "            print(f\"Error: {error}\")\n",
    "            \n",
    "    print(f\"You will order {number_of_customer_orders} item(s)\")  \n",
    "\n",
    "    customer_orders = []\n",
    "    for i in range(1, number_of_customer_orders + 1):\n",
    "\n",
    "        while True:\n",
    "            try:\n",
    "                product = input(f\"Enter the name of product #{i}: \").strip()\n",
    "                if product not in inventory:\n",
    "                    raise ValueError(f\"'{product.capitalize()}' is not available in the inventory.\")\n",
    "                customer_orders.append(product)\n",
    "                break  \n",
    "\n",
    "            except ValueError as error:\n",
    "                print(f\"Error: {error}\")\n",
    "                        \n",
    "        \n",
    "    return(customer_orders)"
   ]
  },
  {
   "cell_type": "code",
   "execution_count": null,
   "id": "40e84acf-a19e-4be3-ac4a-e9f00012921a",
   "metadata": {},
   "outputs": [
    {
     "name": "stdin",
     "output_type": "stream",
     "text": [
      "Enter the number of customer orders:  -9\n"
     ]
    },
    {
     "name": "stdout",
     "output_type": "stream",
     "text": [
      "Error: Invalid quantity! Please enter a non-negative value.\n"
     ]
    },
    {
     "name": "stdin",
     "output_type": "stream",
     "text": [
      "Enter the number of customer orders:  6\n"
     ]
    },
    {
     "name": "stdout",
     "output_type": "stream",
     "text": [
      "You will order 6 item(s)\n"
     ]
    },
    {
     "name": "stdin",
     "output_type": "stream",
     "text": [
      "Enter the name of product #1:  mug\n",
      "Enter the name of product #2:  mag\n"
     ]
    },
    {
     "name": "stdout",
     "output_type": "stream",
     "text": [
      "Error: 'Mag' is not available in the inventory.\n"
     ]
    },
    {
     "name": "stdin",
     "output_type": "stream",
     "text": [
      "Enter the name of product #2:  hit\n"
     ]
    },
    {
     "name": "stdout",
     "output_type": "stream",
     "text": [
      "Error: 'Hit' is not available in the inventory.\n"
     ]
    },
    {
     "name": "stdin",
     "output_type": "stream",
     "text": [
      "Enter the name of product #2:  t-shirt\n",
      "Enter the name of product #3:  book\n"
     ]
    },
    {
     "name": "stdout",
     "output_type": "stream",
     "text": [
      "Error: 'Book' is not available in the inventory.\n"
     ]
    }
   ],
   "source": [
    "get_customer_orders(inventory)"
   ]
  },
  {
   "cell_type": "code",
   "execution_count": null,
   "id": "4c267cf8-8390-4801-96a8-34b87c24596e",
   "metadata": {},
   "outputs": [],
   "source": []
  }
 ],
 "metadata": {
  "kernelspec": {
   "display_name": "Python 3 (ipykernel)",
   "language": "python",
   "name": "python3"
  },
  "language_info": {
   "codemirror_mode": {
    "name": "ipython",
    "version": 3
   },
   "file_extension": ".py",
   "mimetype": "text/x-python",
   "name": "python",
   "nbconvert_exporter": "python",
   "pygments_lexer": "ipython3",
   "version": "3.12.7"
  }
 },
 "nbformat": 4,
 "nbformat_minor": 5
}
